{
 "cells": [
  {
   "cell_type": "markdown",
   "id": "640bb887-3312-483d-87ab-4a95dbe9af96",
   "metadata": {},
   "source": [
    " Explain with an example each when to use a for loop and a while loop. \n"
   ]
  },
  {
   "cell_type": "raw",
   "id": "ed3e0465-a4ed-492e-91a0-f5009b20f70c",
   "metadata": {},
   "source": [
    "for i in range(10):\n",
    "   print(i)\n",
    "\n",
    "# In this case we need a specific number for loop, it works according to how much you set limit.For loop is run according data limit\n",
    "\n",
    "count = 0\n",
    "while count <= 10:\n",
    "   count += 1\n",
    "   print(count)\n",
    "\n",
    "# In this case while loop run till count is not reached at number of 10 times. While the loop is continuous."
   ]
  },
  {
   "cell_type": "markdown",
   "id": "8421ec92-6add-4885-a7c6-4c5f852637c1",
   "metadata": {},
   "source": [
    " Write a python program to print the sum and product of the first 10 natural numbers using for  and while loop."
   ]
  },
  {
   "cell_type": "code",
   "execution_count": 1,
   "id": "dd7be444-1b71-48d7-8849-8ae78d317088",
   "metadata": {},
   "outputs": [
    {
     "name": "stdout",
     "output_type": "stream",
     "text": [
      "55\n"
     ]
    }
   ],
   "source": [
    "# FOR LOOP\n",
    "result = 0\n",
    "for i in range(11):\n",
    "   result = i+ result\n",
    "print(result)"
   ]
  },
  {
   "cell_type": "code",
   "execution_count": 3,
   "id": "170456d2-7734-4baa-85df-aa99025ec6e7",
   "metadata": {},
   "outputs": [
    {
     "name": "stdout",
     "output_type": "stream",
     "text": [
      "55\n"
     ]
    }
   ],
   "source": [
    "# WHILE LOOP\n",
    "result = 0\n",
    "count = 1\n",
    "while count <= 10:\n",
    "   result += count\n",
    "   count += 1\n",
    "print(result)"
   ]
  },
  {
   "cell_type": "markdown",
   "id": "ee05d049-46f5-4047-8bd1-6ddfc9ebb3b1",
   "metadata": {},
   "source": [
    "------------------------------------------------------------------------------------------------------------------------------\n",
    "Create a python program to compute the electricity bill for a household. \n",
    "The per-unit charges in rupees are as follows: For the first 100 units, the user will be charged Rs. 4.5 per  unit, for the next 100 units, the user will be charged Rs. 6 per unit, and for the next 100 units, the user will  be charged Rs. 10 per unit, After 300 units and above the user will be charged Rs. 20 per unit. \n",
    "You are required to take the units of electricity consumed in a month from the user as input. \n",
    "Your program must pass this test case: when the unit of electricity consumed by the user in a month is  310, the total electricity bill should be 2250."
   ]
  },
  {
   "cell_type": "code",
   "execution_count": 4,
   "id": "a1355ac2-e281-46c0-8932-7c78369d8560",
   "metadata": {},
   "outputs": [
    {
     "name": "stdin",
     "output_type": "stream",
     "text": [
      "Enter the units of electricity :  310\n"
     ]
    },
    {
     "name": "stdout",
     "output_type": "stream",
     "text": [
      "The total charge for 310 units of electricity consumed is Rs. 2250.0\n"
     ]
    }
   ],
   "source": [
    "units = int(input(\"Enter the units of electricity : \"))\n",
    "\n",
    "if units <= 100:\n",
    "   total_charge = units * 4.5\n",
    "elif units <= 200:\n",
    "   total_charge = 100 * 4.5 + (units - 100)* 6\n",
    "elif units <= 300:\n",
    "   total_charge = 100 * 4.5 + 100 * 6 + (units-200) * 10\n",
    "else:\n",
    "   total_charge = 100 * 4.5 + 100 * 6 + 100 * 10 + (units - 300) * 20\n",
    "\n",
    "print(f\"The total charge for {units} units of electricity consumed is Rs. {int(total_charge)}\")"
   ]
  },
  {
   "cell_type": "markdown",
   "id": "4eae0ed7-ecd8-4416-b0d2-9475278dc368",
   "metadata": {},
   "source": [
    "------------------------------------------------------------------------------------------------------------------------------\n",
    "Create a list of numbers from 1 to 100. Use a for loop and while loop to calculate the cube of each  number and if the cube of that number is divisible by 4 or 5 then append that number in a list and print  that list. "
   ]
  },
  {
   "cell_type": "code",
   "execution_count": 5,
   "id": "bbca5859-ba1b-4c7c-8680-be50ac6ed22a",
   "metadata": {},
   "outputs": [
    {
     "name": "stdout",
     "output_type": "stream",
     "text": [
      "[8, 64, 125, 216, 512, 1000, 1728, 2744, 3375, 4096, 5832, 8000, 10648, 13824, 15625, 17576, 21952, 27000, 32768, 39304, 42875, 46656, 54872, 64000, 74088, 85184, 91125, 97336, 110592, 125000, 140608, 157464, 166375, 175616, 195112, 216000, 238328, 262144, 274625, 287496, 314432, 343000, 373248, 405224, 421875, 438976, 474552, 512000, 551368, 592704, 614125, 636056, 681472, 729000, 778688, 830584, 857375, 884736, 941192, 1000000]\n"
     ]
    }
   ],
   "source": [
    "# For Loop\n",
    "divisable_by_4_or_5_for_loop = []\n",
    "number = list(range(1, 101))\n",
    "for i in number:\n",
    "      result = i ** 3\n",
    "      if result % 4 == 0 or result % 5 == 0:\n",
    "            divisable_by_4_or_5_for_loop.append(result)\n",
    "print(divisable_by_4_or_5_for_loop)            "
   ]
  },
  {
   "cell_type": "code",
   "execution_count": 6,
   "id": "a79273e2-f839-4d6f-a840-219cfaef934a",
   "metadata": {},
   "outputs": [
    {
     "name": "stdout",
     "output_type": "stream",
     "text": [
      "[8, 64, 125, 216, 512, 1000, 1728, 2744, 3375, 4096, 5832, 8000, 10648, 13824, 15625, 17576, 21952, 27000, 32768, 39304, 42875, 46656, 54872, 64000, 74088, 85184, 91125, 97336, 110592, 125000, 140608, 157464, 166375, 175616, 195112, 216000, 238328, 262144, 274625, 287496, 314432, 343000, 373248, 405224, 421875, 438976, 474552, 512000, 551368, 592704, 614125, 636056, 681472, 729000, 778688, 830584, 857375, 884736, 941192, 1000000]\n"
     ]
    }
   ],
   "source": [
    "# While Loop\n",
    "num = 1\n",
    "divisable_by_4_or_5 = []\n",
    "while num <= 100 :\n",
    "        cube = num ** 3\n",
    "        if cube % 4 == 0 or cube % 5 == 0:\n",
    "            divisable_by_4_or_5.append(cube)\n",
    "        num += 1\n",
    "print(divisable_by_4_or_5)"
   ]
  },
  {
   "cell_type": "markdown",
   "id": "f99c9a06-8eea-428e-b5fb-13a304a49f5e",
   "metadata": {},
   "source": [
    "-------------------------------------------------------------------------------------------------------------------------------\n",
    "Write a program to filter count vowels in the below-given string. \n",
    "string = \"I want to become a data scientist\""
   ]
  },
  {
   "cell_type": "code",
   "execution_count": 7,
   "id": "eb9f758d-1f57-4448-b400-06175dff0fc0",
   "metadata": {},
   "outputs": [
    {
     "name": "stdin",
     "output_type": "stream",
     "text": [
      "Enter your words :  I want to become a data scientist\n"
     ]
    },
    {
     "name": "stdout",
     "output_type": "stream",
     "text": [
      "Number of vowels in your word 12\n"
     ]
    }
   ],
   "source": [
    "user = str(input(\"Enter your words : \")).lower()\n",
    "count_vowels = 0\n",
    "\n",
    "vowels = set(\"aeiou\")\n",
    "\n",
    "for i in user:\n",
    "    if i in vowels:\n",
    "        count_vowels += 1\n",
    "        \n",
    "print(f\"Number of vowels in your word {count_vowels}\")"
   ]
  }
 ],
 "metadata": {
  "kernelspec": {
   "display_name": "Python 3 (ipykernel)",
   "language": "python",
   "name": "python3"
  },
  "language_info": {
   "codemirror_mode": {
    "name": "ipython",
    "version": 3
   },
   "file_extension": ".py",
   "mimetype": "text/x-python",
   "name": "python",
   "nbconvert_exporter": "python",
   "pygments_lexer": "ipython3",
   "version": "3.10.8"
  }
 },
 "nbformat": 4,
 "nbformat_minor": 5
}
